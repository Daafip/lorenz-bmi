{
 "cells": [
  {
   "cell_type": "code",
   "execution_count": 1,
   "id": "ec7e710a-5aa4-40f9-a1cb-151e3cddbe04",
   "metadata": {
    "ExecuteTime": {
     "end_time": "2024-03-14T13:00:08.446581400Z",
     "start_time": "2024-03-14T13:00:07.539329700Z"
    }
   },
   "outputs": [],
   "source": [
    "# general python\n",
    "import warnings\n",
    "warnings.filterwarnings(\"ignore\", category=UserWarning)\n",
    "\n",
    "import numpy as np\n",
    "from pathlib import Path\n",
    "import json\n",
    "import pandas as pd\n",
    "import matplotlib.pyplot as plt\n",
    "import io\n",
    "import yaml"
   ]
  },
  {
   "cell_type": "markdown",
   "id": "c3fcee1b-10ff-46f1-8e06-66e4d633451d",
   "metadata": {},
   "source": [
    " ## Load model in"
   ]
  },
  {
   "cell_type": "code",
   "execution_count": 2,
   "id": "f81ebe76-f383-4cbb-b02d-eb3a5277a728",
   "metadata": {
    "ExecuteTime": {
     "end_time": "2024-03-14T13:02:40.009234Z",
     "start_time": "2024-03-14T13:02:40.003720800Z"
    }
   },
   "outputs": [],
   "source": [
    "import importlib.util\n",
    "\n",
    "def module_from_file(module_name, file_path):\n",
    "    spec = importlib.util.spec_from_file_location(module_name, file_path)\n",
    "    module = importlib.util.module_from_spec(spec)\n",
    "    spec.loader.exec_module(module)\n",
    "    return module"
   ]
  },
  {
   "cell_type": "code",
   "execution_count": 3,
   "id": "612c7f21-e4ef-47b1-bd56-93df26ffa1b1",
   "metadata": {},
   "outputs": [],
   "source": [
    "# import locally - better to pip install btw"
   ]
  },
  {
   "cell_type": "code",
   "execution_count": 4,
   "id": "3d80d27c-a65d-4aed-bcf1-2b8f86b622d3",
   "metadata": {
    "ExecuteTime": {
     "end_time": "2024-03-14T13:05:34.746743500Z",
     "start_time": "2024-03-14T13:05:34.631677300Z"
    }
   },
   "outputs": [],
   "source": [
    "Lorenz = module_from_file(\"Lorenz\",r'../src/lorenz/lorenz_bmi.py')"
   ]
  },
  {
   "cell_type": "code",
   "execution_count": 5,
   "id": "5c208d59-80fc-4cf9-810f-c7128785a097",
   "metadata": {
    "ExecuteTime": {
     "start_time": "2024-03-14T13:00:13.008427Z"
    }
   },
   "outputs": [
    {
     "data": {
      "text/plain": [
       "<Lorenz.Lorenz at 0x2d97f595340>"
      ]
     },
     "execution_count": 5,
     "metadata": {},
     "output_type": "execute_result"
    }
   ],
   "source": [
    "Lorenz.Lorenz()"
   ]
  },
  {
   "cell_type": "markdown",
   "id": "4ca9bd04-3f12-4512-b40c-ce2e402378cb",
   "metadata": {},
   "source": [
    "From [github.com/eWaterCycle/streamingDataAssimilation](https://github.com/eWaterCycle/streamingDataAssimilation):"
   ]
  },
  {
   "cell_type": "markdown",
   "id": "eda4bd03-91dd-40aa-99cf-5d244147ef05",
   "metadata": {},
   "source": [
    "### Chaotic model divergence: an ensemble of Lorenz 96 models using basic model interface (BMI)\n",
    "The Lorenz 96 model is a model often used to demonstrate chaotic behavior and it is the de-facto standard benchmark model used in the field of data assimilation to test data assimilation methods. In this notebook I present how to easily interact with an implementation of the Lorenz 96 model through the Basic Model Interface (BMI). I show to run a complete ensemble of model-instances that illustrates the chaotic nature of the model.\n",
    "\n",
    "#### the Lorenz 96 model\n",
    "The Lorenz 96 model is a dynamical sytem for $i=1,...,N$ defined by\n",
    "\\begin{equation}\n",
    "\\frac{dx_{i}}{dt}=\\left(x_{i+1} - x_{i-2}\\right)x_{i-1} - x_{i} + F\n",
    "\\end{equation}\n",
    "where i is cyclical, ie. $x_{0}=x_{N}$ and $x_{-1} = x_{N-1}$. $F$ is an external force acting on the system. A value of $F=8$ is known to create chaotic bahavior and is often used. The dimension $N$ can be freely chosen and is typical $40$, but for testing very high dimension systems, higher values can be used. The Lorenz 96 model is a typical chaotic model where, although, the model is deterministic, slight variations in the input state will over time result in complete different states.\n",
    "\n",
    "#### Numerical implementation of the Lorenz 96 model\n",
    "A fourth order Runga Kutta scheme is used to implement the Lorenz 96 model. Writing the entire state-vector as $\\vec{x}$ and using $f\\left(\\vec{x}\\right)$ as the right hand side of the model, ie:\n",
    "\\begin{eqnarray}\n",
    "f\\left(x_{i}\\right) = \\left(x_{i+1} - x_{i-2}\\right)x_{i-1} - x_{i} + F\n",
    "\\\\\n",
    "f\\left(\\vec{x}\\right) = \\left\\{f\\left(x_{1}\\right),...,f\\left(x_{N}\\right)\\right\\}\n",
    "\\end{eqnarray}\n",
    "the implementation is given by:\n",
    "\\begin{eqnarray}\n",
    "\\vec{k}_{1}=f\\left(\\vec{x}\\left(t\\right)\\right)\n",
    "\\\\\n",
    "\\vec{k}_{2}=f\\left(\\vec{x}\\left(t\\right) + \\frac{1}{2}\\vec{k}_{1}\\Delta t\\right)\n",
    "\\\\\n",
    "\\vec{k}_{3}=f\\left(\\vec{x}\\left(t\\right) + \\frac{1}{2}\\vec{k}_{2}\\Delta t\\right)\n",
    "\\\\\n",
    "\\vec{k}_{4}=f\\left(\\vec{x}\\left(t\\right) + \\vec{k}_{3}\\Delta t\\right)\n",
    "\\end{eqnarray}\n",
    "and finally\n",
    "\\begin{equation}\n",
    "\\vec{x}\\left(t + \\Delta t\\right) = \\vec{x}\\left(t\\right) + \\frac{1}{6}\\left(\\vec{k}_{1} + 2\\vec{k}_{2} + 2 \\vec{k}_{3} + \\vec{k}_{4}\\right)\n",
    "\\end{equation}\n",
    "\n",
    "#### The Basic Model Interface (BMI)\n",
    "The basic model interface allows communicating with models in a generic fashion. It requires a few standard methods to be available such as 'initialize()' and 'update()'. Methods that are not relevant for the model need still be implemented, but can simply raise a one line exception. See [ref] for more information. Implementing the BMI allows easy interaction with the model. The cells below initiate one instance of the model. For reasons that will become clear we will call this instance \"truthModel\".\n",
    "\n",
    "BMI models are typically initialized with a settings-file. This is overkill here, but for completeness, we generate the settings-file first and than pass it to the model."
   ]
  },
  {
   "cell_type": "code",
   "execution_count": 6,
   "id": "8cec039d-cb18-4af6-bb92-dd713c16ed16",
   "metadata": {},
   "outputs": [],
   "source": [
    "#create an instance of the BMILorenz class\n",
    "truthModel = Lorenz.Lorenz()\n",
    "\n",
    "#initialize the model\n",
    "J = 40 #dimension of Lorenz Model\n",
    "\n",
    "#make a starting state vector\n",
    "commonStartState = np.zeros(J)\n",
    "commonStartState[19]=0.01\n",
    "\n",
    "# Define settings data\n",
    "settings = {'J': J,\n",
    "            'F': 8.0,\n",
    "            'start_time': 0.0,\n",
    "            'end_time': 20.0,\n",
    "            'dt':1e-3,\n",
    "            'start_state': list(commonStartState)}\n",
    "\n",
    "# Write YAML file\n",
    "# with io.open(, 'w', encoding='utf8') as outfile:\n",
    "#     yaml.dump(settings, outfile, default_flow_style=False, allow_unicode=True)\n",
    "\n",
    "config_file = Path('settings.yaml')\n",
    "with config_file.open(mode=\"w\") as f:\n",
    "    f.write(json.dumps(settings, indent=4))\n",
    "\n",
    "#initialize model\n",
    "truthModel.initialize('settings.yaml')"
   ]
  },
  {
   "cell_type": "markdown",
   "id": "519dba02-c3c7-4e10-a0e5-877127196ba9",
   "metadata": {},
   "source": [
    "### run:"
   ]
  },
  {
   "cell_type": "code",
   "execution_count": 7,
   "id": "32cf161b-a403-41d4-ae0c-cbee05a99965",
   "metadata": {},
   "outputs": [],
   "source": [
    "output = pd.DataFrame(columns = ['truth'])\n",
    "\n",
    "lst = []\n",
    "while truthModel.get_current_time() < truthModel.get_end_time():\n",
    "    truthModel.update()\n",
    "    output.loc[truthModel.get_current_time()] = truthModel.get_value_at_indices('state',np.zeros(1),np.array(5))\n"
   ]
  },
  {
   "cell_type": "code",
   "execution_count": 8,
   "id": "69eeff44-7de3-4a82-856e-d76f5eb304bf",
   "metadata": {},
   "outputs": [
    {
     "data": {
      "image/png": "[encoded data removed]",
      "text/plain": [
       "<Figure size 640x480 with 1 Axes>"
      ]
     },
     "metadata": {},
     "output_type": "display_data"
    }
   ],
   "source": [
    "plt.plot(output,color=\"r\")\n",
    "plt.show()"
   ]
  },
  {
   "cell_type": "markdown",
   "id": "8e83f27c-647f-4cd4-8d1d-d9aa899e37ba",
   "metadata": {},
   "source": [
    "### creating an ensemble of models\n",
    "An ensemble of model instances can be easily created by making an array of model objects<br>\n",
    "Below I slightly change the starting state of the ensemble members by using the `model.set_value_at_indices()` function."
   ]
  },
  {
   "cell_type": "code",
   "execution_count": 9,
   "id": "aaeef4b4-5195-4b0c-ac01-74fc7995f5d9",
   "metadata": {},
   "outputs": [],
   "source": [
    "# N = 3 #numeber of ensemble members\n",
    "\n",
    "# #start with  an empty ensemble\n",
    "# ensemble = []\n",
    "\n",
    "# for n in range (N):\n",
    "#     #add an ensemble methods\n",
    "#     ensemble.append(Lorenz.Lorenz())\n",
    "#     ensemble[n].initialize('settings.yaml')\n",
    "#     ensemble[n].set_value_at_indices('state',np.array(5),ensemble[n].get_value_at_indices('state',np.array([0]), np.array([5])) +\n",
    "#                                      np.random.randn(1)*0.01)\n",
    "    \n",
    "#     #also add a column to the output dataframe to store the output\n",
    "#     output['ensemble' + str(n)]= np.nan"
   ]
  },
  {
   "cell_type": "code",
   "execution_count": 11,
   "id": "ac23a719-4afd-468a-82b5-dd74250df7d4",
   "metadata": {},
   "outputs": [],
   "source": [
    "# #run the Ensemble. We will use the time of the first ensemble member to keep time, assuming that all\n",
    "# #models use the same time steps.\n",
    "\n",
    "# while ensemble[0].get_current_time()<ensemble[0].get_end_time():\n",
    "\n",
    "#     #loop through the ensemble members and store the state after each update\n",
    "#     for n in range (N):\n",
    "#         ensemble[n].update()\n",
    "#         output.at[ensemble[n].get_current_time(),'ensemble' + str(n)] = ensemble[n].get_value('state',np.zeros(J))[5]\n"
   ]
  },
  {
   "cell_type": "code",
   "execution_count": null,
   "id": "a2a65bed-656a-4d17-aec4-3e7b65fea5fc",
   "metadata": {},
   "outputs": [],
   "source": [
    "# plt.plot(output.loc[:,'ensemble0':],'k')\n",
    "# plt.plot(output.loc[:,'truth'],'r')\n",
    "# plt.show()"
   ]
  },
  {
   "cell_type": "code",
   "execution_count": 12,
   "id": "e4008957-7c3b-4a20-829f-077dee7628bc",
   "metadata": {},
   "outputs": [
    {
     "data": {
      "text/plain": [
       "40"
      ]
     },
     "execution_count": 12,
     "metadata": {},
     "output_type": "execute_result"
    }
   ],
   "source": [
    "np.prod(truthModel._shape)"
   ]
  },
  {
   "cell_type": "code",
   "execution_count": 13,
   "id": "010703c2-a434-40a5-8493-11890a5578dc",
   "metadata": {},
   "outputs": [
    {
     "data": {
      "text/plain": [
       "1"
      ]
     },
     "execution_count": 13,
     "metadata": {},
     "output_type": "execute_result"
    }
   ],
   "source": [
    "truthModel.get_var_rank(\"state\")"
   ]
  },
  {
   "cell_type": "code",
   "execution_count": 14,
   "id": "fe528e98-9638-4167-95c9-6dff29b90e6b",
   "metadata": {},
   "outputs": [
    {
     "data": {
      "text/plain": [
       "1"
      ]
     },
     "execution_count": 14,
     "metadata": {},
     "output_type": "execute_result"
    }
   ],
   "source": [
    "truthModel.get_var_rank(\"state\")"
   ]
  },
  {
   "cell_type": "code",
   "execution_count": 15,
   "id": "481ef089-c0f8-4f1a-ba35-7cf0f29eebc7",
   "metadata": {},
   "outputs": [
    {
     "data": {
      "text/plain": [
       "'_state'"
      ]
     },
     "execution_count": 15,
     "metadata": {},
     "output_type": "execute_result"
    }
   ],
   "source": [
    "truthModel._value[\"state\"]"
   ]
  },
  {
   "cell_type": "code",
   "execution_count": 16,
   "id": "c37a8951-f2eb-4fd0-88a9-7375665c0c69",
   "metadata": {},
   "outputs": [],
   "source": [
    "name = \"state\"\n",
    "dtype = truthModel.get_var_type(name)\n",
    "item_size = truthModel.get_var_itemsize(name)\n",
    "total_size = truthModel.get_var_nbytes(name)"
   ]
  },
  {
   "cell_type": "code",
   "execution_count": 17,
   "id": "02b2a6d2-52f2-4176-bef7-dafc9a8061ce",
   "metadata": {},
   "outputs": [
    {
     "data": {
      "text/plain": [
       "8"
      ]
     },
     "execution_count": 17,
     "metadata": {},
     "output_type": "execute_result"
    }
   ],
   "source": [
    "np.zeros(40).itemsize"
   ]
  },
  {
   "cell_type": "code",
   "execution_count": 18,
   "id": "be9b7e9a-6da7-42f0-ae2a-260f86db36ee",
   "metadata": {},
   "outputs": [
    {
     "data": {
      "text/plain": [
       "320"
      ]
     },
     "execution_count": 18,
     "metadata": {},
     "output_type": "execute_result"
    }
   ],
   "source": [
    "total_size"
   ]
  },
  {
   "cell_type": "code",
   "execution_count": 19,
   "id": "a32c3d0e-f40b-4ab9-af23-c8e7840f4a1c",
   "metadata": {},
   "outputs": [
    {
     "data": {
      "text/plain": [
       "'float64'"
      ]
     },
     "execution_count": 19,
     "metadata": {},
     "output_type": "execute_result"
    }
   ],
   "source": [
    "dtype"
   ]
  },
  {
   "cell_type": "code",
   "execution_count": 20,
   "id": "9057bc38-952c-4526-82ea-cad95175daf0",
   "metadata": {},
   "outputs": [
    {
     "data": {
      "text/plain": [
       "8"
      ]
     },
     "execution_count": 20,
     "metadata": {},
     "output_type": "execute_result"
    }
   ],
   "source": [
    "item_size"
   ]
  },
  {
   "cell_type": "code",
   "execution_count": 21,
   "id": "53754318-3315-42d3-89d3-6d9162896c73",
   "metadata": {},
   "outputs": [
    {
     "data": {
      "text/plain": [
       "320"
      ]
     },
     "execution_count": 21,
     "metadata": {},
     "output_type": "execute_result"
    }
   ],
   "source": [
    "total_size"
   ]
  },
  {
   "cell_type": "code",
   "execution_count": 22,
   "id": "d45927b2-24d1-4f71-a894-100b447f2dfd",
   "metadata": {},
   "outputs": [],
   "source": [
    "size = total_size // item_size"
   ]
  },
  {
   "cell_type": "code",
   "execution_count": 23,
   "id": "efccaf5f-0cbb-481d-a0b2-d7ec9feeb82d",
   "metadata": {},
   "outputs": [
    {
     "data": {
      "text/plain": [
       "40"
      ]
     },
     "execution_count": 23,
     "metadata": {},
     "output_type": "execute_result"
    }
   ],
   "source": [
    "size"
   ]
  },
  {
   "cell_type": "code",
   "execution_count": null,
   "id": "fd4e26e0-24a5-4f70-9876-1ba465bbacbc",
   "metadata": {},
   "outputs": [],
   "source": []
  }
 ],
 "metadata": {
  "kernelspec": {
   "display_name": "Python 3 (ipykernel)",
   "language": "python",
   "name": "python3"
  },
  "language_info": {
   "codemirror_mode": {
    "name": "ipython",
    "version": 3
   },
   "file_extension": ".py",
   "mimetype": "text/x-python",
   "name": "python",
   "nbconvert_exporter": "python",
   "pygments_lexer": "ipython3",
   "version": "3.12.0"
  }
 },
 "nbformat": 4,
 "nbformat_minor": 5
}
